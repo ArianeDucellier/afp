{
 "cells": [
  {
   "cell_type": "markdown",
   "id": "abd6e422-5984-466f-a5e0-467c5edc1722",
   "metadata": {},
   "source": [
    "# Notebook to test some of the ARMA functions"
   ]
  },
  {
   "cell_type": "code",
   "execution_count": 1,
   "id": "c13d79d2-411e-42ed-9367-4059d8dcc769",
   "metadata": {},
   "outputs": [],
   "source": [
    "import matplotlib.pyplot as plt\n",
    "import numpy as np\n",
    "import torch"
   ]
  },
  {
   "cell_type": "markdown",
   "id": "4b3f2188-8167-4c17-aa2b-a91355d8d315",
   "metadata": {},
   "source": [
    "## 1. Finding $\\theta$ parameter of MA(1) process"
   ]
  },
  {
   "cell_type": "code",
   "execution_count": 2,
   "id": "54894dad-74ac-4964-90d2-7d551c792db5",
   "metadata": {},
   "outputs": [],
   "source": [
    "N = 1000\n",
    "theta = 0.5\n",
    "sigma = 1.0"
   ]
  },
  {
   "cell_type": "code",
   "execution_count": 3,
   "id": "a7ce9e95-5745-47d3-bfe1-598d89661529",
   "metadata": {},
   "outputs": [],
   "source": [
    "np.random.seed(1)"
   ]
  },
  {
   "cell_type": "code",
   "execution_count": 4,
   "id": "01dede2d-c9f7-415e-b0da-73e2b2d4bb8e",
   "metadata": {},
   "outputs": [],
   "source": [
    "X = np.zeros(N)\n",
    "Z = np.random.normal(0, sigma, N)\n",
    "X[0] = Z[0]\n",
    "X[1:N] = Z[1:N] + theta * Z[0:(N - 1)] "
   ]
  },
  {
   "cell_type": "markdown",
   "id": "36201ff5-7f2f-441f-8f6d-011dc48136be",
   "metadata": {},
   "source": [
    "### 1.1. Grid search"
   ]
  },
  {
   "cell_type": "code",
   "execution_count": 5,
   "id": "f90a926e-64c4-47e8-8781-fc765f064728",
   "metadata": {},
   "outputs": [],
   "source": [
    "from ARMA import MA1_grid_search"
   ]
  },
  {
   "cell_type": "code",
   "execution_count": 6,
   "id": "a1e3e46d-ea3b-4046-b618-07fe4dcb0801",
   "metadata": {},
   "outputs": [],
   "source": [
    "thetas = np.linspace(0.4, 0.6, 201)\n",
    "(theta_hat, errors) = MA1_grid_search(X, thetas)"
   ]
  },
  {
   "cell_type": "code",
   "execution_count": 7,
   "id": "2b1dff78-44b3-4dd9-a1e0-290fcc58e95c",
   "metadata": {},
   "outputs": [
    {
     "data": {
      "text/plain": [
       "Text(0.5, 1.0, 'theta = 0.463')"
      ]
     },
     "execution_count": 7,
     "metadata": {},
     "output_type": "execute_result"
    },
    {
     "data": {
      "image/png": "[encoded data removed]",
      "text/plain": [
       "<Figure size 432x288 with 1 Axes>"
      ]
     },
     "metadata": {
      "needs_background": "light"
     },
     "output_type": "display_data"
    }
   ],
   "source": [
    "plt.plot(thetas, errors, 'b-')\n",
    "plt.xlabel('theta')\n",
    "plt.ylabel('error')\n",
    "plt.title('theta = {:.3f}'.format(theta_hat))"
   ]
  },
  {
   "cell_type": "markdown",
   "id": "9b89b1f5-baeb-4ac3-9e7d-cdcf642b64e1",
   "metadata": {},
   "source": [
    "### 1.2. Gradient descent"
   ]
  },
  {
   "cell_type": "code",
   "execution_count": 8,
   "id": "672d2a4b-fbb2-497e-bab9-fb25f9397733",
   "metadata": {},
   "outputs": [],
   "source": [
    "from ARMA import MA1_gradient"
   ]
  },
  {
   "cell_type": "code",
   "execution_count": 9,
   "id": "3fbe1cdf-88b6-45ce-9fc6-32b7dce0ff9b",
   "metadata": {},
   "outputs": [
    {
     "data": {
      "text/plain": [
       "<torch._C.Generator at 0x129b99e30>"
      ]
     },
     "execution_count": 9,
     "metadata": {},
     "output_type": "execute_result"
    }
   ],
   "source": [
    "torch.manual_seed(1)"
   ]
  },
  {
   "cell_type": "code",
   "execution_count": 10,
   "id": "c3e38653-b291-4d55-802f-18fe3b11a4a6",
   "metadata": {},
   "outputs": [],
   "source": [
    "(thetas, loss) = MA1_gradient(X, 20, 0.0001)"
   ]
  },
  {
   "cell_type": "code",
   "execution_count": 11,
   "id": "3babcb94-197b-4e96-bcea-caedcd1473f1",
   "metadata": {},
   "outputs": [
    {
     "data": {
      "image/png": "[encoded data removed]",
      "text/plain": [
       "<Figure size 432x288 with 2 Axes>"
      ]
     },
     "metadata": {
      "needs_background": "light"
     },
     "output_type": "display_data"
    }
   ],
   "source": [
    "fig, ax1 = plt.subplots() \n",
    "  \n",
    "ax1.set_xlabel('iteration') \n",
    "ax1.set_ylabel('theta', color = 'red') \n",
    "ax1.plot(np.arange(0, 21), thetas, 'ro') \n",
    "  \n",
    "ax2 = ax1.twinx() \n",
    "ax2.set_ylabel('loss', color = 'blue') \n",
    "ax2.plot(np.arange(1, 21), loss, 'bo') \n",
    "\n",
    "plt.title('theta = {:.3f}'.format(thetas[-1]))\n",
    "plt.show()"
   ]
  },
  {
   "cell_type": "code",
   "execution_count": null,
   "id": "ac00a3cc-85d8-443f-a6db-274b7a93b085",
   "metadata": {},
   "outputs": [],
   "source": []
  }
 ],
 "metadata": {
  "kernelspec": {
   "display_name": "Python 3 (ipykernel)",
   "language": "python",
   "name": "python3"
  },
  "language_info": {
   "codemirror_mode": {
    "name": "ipython",
    "version": 3
   },
   "file_extension": ".py",
   "mimetype": "text/x-python",
   "name": "python",
   "nbconvert_exporter": "python",
   "pygments_lexer": "ipython3",
   "version": "3.7.12"
  }
 },
 "nbformat": 4,
 "nbformat_minor": 5
}
